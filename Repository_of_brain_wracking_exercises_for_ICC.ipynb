{
  "nbformat": 4,
  "nbformat_minor": 0,
  "metadata": {
    "colab": {
      "name": "Repository of brain wracking exercises for ICC.ipynb",
      "provenance": [],
      "authorship_tag": "ABX9TyMqSQkhSV0S50qGWzt6Cj0H",
      "include_colab_link": true
    },
    "kernelspec": {
      "name": "python3",
      "display_name": "Python 3"
    },
    "language_info": {
      "name": "python"
    }
  },
  "cells": [
    {
      "cell_type": "markdown",
      "metadata": {
        "id": "view-in-github",
        "colab_type": "text"
      },
      "source": [
        "<a href=\"https://colab.research.google.com/github/fynox2001/hacktoberfest-2022/blob/main/Repository_of_brain_wracking_exercises_for_ICC.ipynb\" target=\"_parent\"><img src=\"https://colab.research.google.com/assets/colab-badge.svg\" alt=\"Open In Colab\"/></a>"
      ]
    },
    {
      "cell_type": "markdown",
      "source": [
        "#Largest palindromic number\n",
        "\n",
        "EXAMPLE 1\n",
        "\n",
        "Input: a randomly generated number eg num = \"444947137\"\n",
        "\n",
        "Output: \"7449447\"\n",
        "\n",
        "Explanation: \n",
        "Use the digits \"4449477\" from \"444947137\" to form the palindromic integer \"7449447\".\n",
        "\n",
        "It can be shown that \"7449447\" is the largest palindromic integer that can be formed."
      ],
      "metadata": {
        "id": "SJpkrHONwfe0"
      }
    },
    {
      "cell_type": "markdown",
      "source": [
        "EXAMPLE 2\n",
        "\n",
        "Input: a randomly generated number eg num = \"00009\"\n",
        "\n",
        "Output: \"9\"\n",
        "\n",
        "Explanation: \n",
        "It can be shown that \"9\" is the largest palindromic integer that can be formed.\n",
        "\n",
        "Note that the integer returned should not contain leading zeroes."
      ],
      "metadata": {
        "id": "0_YY27wlw4Dq"
      }
    },
    {
      "cell_type": "markdown",
      "source": [
        "1 <= num.length <= 10e5\n",
        "\n",
        "num only consists of digits."
      ],
      "metadata": {
        "id": "iiLCWKNbxOlF"
      }
    },
    {
      "cell_type": "code",
      "execution_count": 2,
      "metadata": {
        "colab": {
          "base_uri": "https://localhost:8080/"
        },
        "id": "_QZ2Kp7OvXT2",
        "outputId": "6eaaef3b-1d52-4539-b131-6bc6632b8b35"
      },
      "outputs": [
        {
          "output_type": "stream",
          "name": "stdout",
          "text": [
            "78656\n"
          ]
        }
      ],
      "source": [
        "from random import randint\n",
        "num = randint(1,100000)\n",
        "print(num)\n",
        "\n",
        "def largest_palindrome(num):\n",
        "  pass\n"
      ]
    },
    {
      "cell_type": "markdown",
      "source": [
        "#Water Dispenser\n",
        "\n",
        "You have a water dispenser that can dispense cold, warm, and hot water. Every second, you can either fill up 2 cups with different types of water, or 1 cup of any type of water.\n",
        "\n",
        "You are given a 0-indexed integer array amount of length 3 where amount[0], amount[1], and amount[2] denote the number of cold, warm, and hot water cups you need to fill respectively. Return the minimum number of seconds needed to fill up all the cups."
      ],
      "metadata": {
        "id": "pAh6hxOtz00r"
      }
    },
    {
      "cell_type": "markdown",
      "source": [
        "EXAMPLE 1\n",
        "\n",
        "Input: amount = [1,4,2]\n",
        "\n",
        "Output: 4\n",
        "\n",
        "Explanation: One way to fill up the cups is:\n",
        "\n",
        "Second 1: Fill up a cold cup and a warm cup.\n",
        "\n",
        "Second 2: Fill up a warm cup and a hot cup.\n",
        "\n",
        "Second 3: Fill up a warm cup and a hot cup.\n",
        "\n",
        "Second 4: Fill up a warm cup.\n",
        "\n",
        "It can be proven that 4 is the minimum number of seconds needed."
      ],
      "metadata": {
        "id": "tRAReNbV0XSw"
      }
    },
    {
      "cell_type": "markdown",
      "source": [
        "EXAMPLE 2\n",
        "\n",
        "Input: amount = [5,4,4]\n",
        "\n",
        "Output: 7\n",
        "\n",
        "Explanation: One way to fill up the cups is:\n",
        "\n",
        "Second 1: Fill up a cold cup, and a hot cup.\n",
        "\n",
        "Second 2: Fill up a cold cup, and a warm cup.\n",
        "\n",
        "Second 3: Fill up a cold cup, and a warm cup.\n",
        "\n",
        "Second 4: Fill up a warm cup, and a hot cup.\n",
        "\n",
        "Second 5: Fill up a cold cup, and a hot cup.\n",
        "\n",
        "Second 6: Fill up a cold cup, and a warm cup.\n",
        "\n",
        "Second 7: Fill up a hot cup."
      ],
      "metadata": {
        "id": "yqtkRRto0uj5"
      }
    },
    {
      "cell_type": "markdown",
      "source": [
        "EXAMPLE 3\n",
        "\n",
        "Input: amount = [5,0,0]\n",
        "\n",
        "Output: 5\n",
        "\n",
        "Explanation: Every second, we fill up a cold cup."
      ],
      "metadata": {
        "id": "KAauXRXl06PZ"
      }
    },
    {
      "cell_type": "code",
      "source": [
        ""
      ],
      "metadata": {
        "colab": {
          "base_uri": "https://localhost:8080/",
          "height": 235
        },
        "id": "B-I8YYFnw8zp",
        "outputId": "6c033b51-3e88-440a-c728-08dfc0a44959"
      },
      "execution_count": 3,
      "outputs": [
        {
          "output_type": "error",
          "ename": "NameError",
          "evalue": "ignored",
          "traceback": [
            "\u001b[0;31m---------------------------------------------------------------------------\u001b[0m",
            "\u001b[0;31mNameError\u001b[0m                                 Traceback (most recent call last)",
            "\u001b[0;32m<ipython-input-3-4779c87a30f0>\u001b[0m in \u001b[0;36m<module>\u001b[0;34m\u001b[0m\n\u001b[0;32m----> 1\u001b[0;31m \u001b[0;32mdef\u001b[0m \u001b[0mfillCups\u001b[0m\u001b[0;34m(\u001b[0m\u001b[0mself\u001b[0m\u001b[0;34m,\u001b[0m \u001b[0mamount\u001b[0m\u001b[0;34m:\u001b[0m \u001b[0mList\u001b[0m\u001b[0;34m[\u001b[0m\u001b[0mint\u001b[0m\u001b[0;34m]\u001b[0m\u001b[0;34m)\u001b[0m \u001b[0;34m->\u001b[0m \u001b[0mint\u001b[0m\u001b[0;34m:\u001b[0m\u001b[0;34m\u001b[0m\u001b[0;34m\u001b[0m\u001b[0m\n\u001b[0m\u001b[1;32m      2\u001b[0m   \u001b[0mi\u001b[0m\u001b[0;34m=\u001b[0m\u001b[0;36m0\u001b[0m\u001b[0;34m\u001b[0m\u001b[0;34m\u001b[0m\u001b[0m\n\u001b[1;32m      3\u001b[0m   \u001b[0;32mwhile\u001b[0m \u001b[0mamount\u001b[0m\u001b[0;34m.\u001b[0m\u001b[0mcount\u001b[0m\u001b[0;34m(\u001b[0m\u001b[0;36m0\u001b[0m\u001b[0;34m)\u001b[0m\u001b[0;34m<\u001b[0m\u001b[0;36m2\u001b[0m\u001b[0;34m:\u001b[0m\u001b[0;34m\u001b[0m\u001b[0;34m\u001b[0m\u001b[0m\n\u001b[1;32m      4\u001b[0m     \u001b[0mi\u001b[0m\u001b[0;34m=\u001b[0m\u001b[0mi\u001b[0m\u001b[0;34m+\u001b[0m\u001b[0;36m1\u001b[0m\u001b[0;34m\u001b[0m\u001b[0;34m\u001b[0m\u001b[0m\n\u001b[1;32m      5\u001b[0m     \u001b[0mamount\u001b[0m\u001b[0;34m.\u001b[0m\u001b[0msort\u001b[0m\u001b[0;34m(\u001b[0m\u001b[0;34m)\u001b[0m\u001b[0;34m\u001b[0m\u001b[0;34m\u001b[0m\u001b[0m\n",
            "\u001b[0;31mNameError\u001b[0m: name 'List' is not defined"
          ]
        }
      ]
    },
    {
      "cell_type": "code",
      "source": [
        ""
      ],
      "metadata": {
        "colab": {
          "base_uri": "https://localhost:8080/",
          "height": 235
        },
        "id": "zOKeQ0Mx2Pmi",
        "outputId": "db2aea94-7780-46ee-8f3e-5c3ec8b74b47"
      },
      "execution_count": 4,
      "outputs": [
        {
          "output_type": "error",
          "ename": "TypeError",
          "evalue": "ignored",
          "traceback": [
            "\u001b[0;31m---------------------------------------------------------------------------\u001b[0m",
            "\u001b[0;31mTypeError\u001b[0m                                 Traceback (most recent call last)",
            "\u001b[0;32m<ipython-input-4-79d888bd02a8>\u001b[0m in \u001b[0;36m<module>\u001b[0;34m\u001b[0m\n\u001b[1;32m      1\u001b[0m \u001b[0mcup_list\u001b[0m \u001b[0;34m=\u001b[0m \u001b[0;34m[\u001b[0m\u001b[0;36m5\u001b[0m\u001b[0;34m,\u001b[0m\u001b[0;36m4\u001b[0m\u001b[0;34m,\u001b[0m\u001b[0;36m4\u001b[0m\u001b[0;34m]\u001b[0m\u001b[0;34m\u001b[0m\u001b[0;34m\u001b[0m\u001b[0m\n\u001b[1;32m      2\u001b[0m \u001b[0;34m\u001b[0m\u001b[0m\n\u001b[0;32m----> 3\u001b[0;31m \u001b[0;32mdef\u001b[0m \u001b[0mfillCups\u001b[0m\u001b[0;34m(\u001b[0m\u001b[0mself\u001b[0m\u001b[0;34m,\u001b[0m \u001b[0mamount\u001b[0m\u001b[0;34m:\u001b[0m \u001b[0mcup_list\u001b[0m\u001b[0;34m[\u001b[0m\u001b[0mint\u001b[0m\u001b[0;34m]\u001b[0m\u001b[0;34m)\u001b[0m \u001b[0;34m->\u001b[0m \u001b[0mint\u001b[0m\u001b[0;34m:\u001b[0m\u001b[0;34m\u001b[0m\u001b[0;34m\u001b[0m\u001b[0m\n\u001b[0m\u001b[1;32m      4\u001b[0m   \u001b[0mamount\u001b[0m\u001b[0;34m.\u001b[0m\u001b[0msort\u001b[0m\u001b[0;34m(\u001b[0m\u001b[0mreverse\u001b[0m \u001b[0;34m=\u001b[0m \u001b[0;32mTrue\u001b[0m\u001b[0;34m)\u001b[0m\u001b[0;34m\u001b[0m\u001b[0;34m\u001b[0m\u001b[0m\n\u001b[1;32m      5\u001b[0m   \u001b[0mcount\u001b[0m \u001b[0;34m=\u001b[0m \u001b[0;36m0\u001b[0m\u001b[0;34m\u001b[0m\u001b[0;34m\u001b[0m\u001b[0m\n",
            "\u001b[0;31mTypeError\u001b[0m: list indices must be integers or slices, not type"
          ]
        }
      ]
    }
  ]
}